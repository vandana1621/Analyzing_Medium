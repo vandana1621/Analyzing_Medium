{
 "cells": [
  {
   "cell_type": "markdown",
   "metadata": {},
   "source": [
    "<h1 align=\"center\">Medium Author Leaderboard</h1>\n",
    "\n",
    "<br>\n",
    "In this notebook I will create a leaderboard for the most clapped data-science writers on Medium for the last year.\n",
    "\n",
    "## Where the data came from.\n",
    "\n",
    "I pulled this data from Medium's data-science archive pages using a Selenium scraper and BeautifulSoup. The data-science archive page lists every story published with a data-science tag, organized by date. For the purposes of this notebook, <b>I scraped data from every data-science tagged story published between October 1st, 2017 and October 1st, 2018.</b>\n",
    "<br>\n",
    "\n",
    "<h3 align=\"center\"> Image of the \"<a href=\"https://medium.com/tag/data-science/archive\">data-science</a>\" Archive</h3>"
   ]
  },
  {
   "cell_type": "raw",
   "metadata": {},
   "source": [
    "<div align=\"center\"><img src=\"img/archive2.png\" align=\"center\" width=500></div>"
   ]
  },
  {
   "cell_type": "markdown",
   "metadata": {},
   "source": [
    "## Data Collected\n",
    "Each timeline-card was scraped for a few pieces of key information. Author, Publication, Date, ReadTime, Title, Subtitle, and Claps-Received\n",
    "<br>\n",
    "<h3 align=\"center\"> Example of Data Scraped from a Timeline Card</h3>"
   ]
  },
  {
   "cell_type": "raw",
   "metadata": {},
   "source": [
    "<div align=\"center\"><img src=\"img/card.png\" width=500></div>"
   ]
  },
  {
   "cell_type": "markdown",
   "metadata": {},
   "source": [
    "# The Data"
   ]
  },
  {
   "cell_type": "code",
   "execution_count": 1,
   "metadata": {
    "collapsed": true
   },
   "outputs": [],
   "source": [
    "import os \n",
    "import pandas as pd\n",
    "import matplotlib.pyplot as plt\n",
    "import seaborn as sns\n",
    "import numpy as np\n",
    "\n",
    "medium = pd.read_csv(\"DS_Clean.csv\")\n",
    "medium = medium.drop(\"Unnamed: 0\", axis=1)\n",
    "ds = medium"
   ]
  },
  {
   "cell_type": "code",
   "execution_count": 52,
   "metadata": {},
   "outputs": [
    {
     "data": {
      "text/html": [
       "<div>\n",
       "<style scoped>\n",
       "    .dataframe tbody tr th:only-of-type {\n",
       "        vertical-align: middle;\n",
       "    }\n",
       "\n",
       "    .dataframe tbody tr th {\n",
       "        vertical-align: top;\n",
       "    }\n",
       "\n",
       "    .dataframe thead th {\n",
       "        text-align: right;\n",
       "    }\n",
       "</style>\n",
       "<table border=\"1\" class=\"dataframe\">\n",
       "  <thead>\n",
       "    <tr style=\"text-align: right;\">\n",
       "      <th></th>\n",
       "      <th>Title</th>\n",
       "      <th>Subtitle</th>\n",
       "      <th>Image</th>\n",
       "      <th>Author</th>\n",
       "      <th>Publication</th>\n",
       "      <th>Year</th>\n",
       "      <th>Month</th>\n",
       "      <th>Day</th>\n",
       "      <th>Reading_Time</th>\n",
       "      <th>Claps</th>\n",
       "      <th>url</th>\n",
       "      <th>Author_url</th>\n",
       "      <th>Tag_data-science</th>\n",
       "    </tr>\n",
       "  </thead>\n",
       "  <tbody>\n",
       "    <tr>\n",
       "      <th>0</th>\n",
       "      <td>Jupyter Data Science Stack + Docker in under 1...</td>\n",
       "      <td>Motivation</td>\n",
       "      <td>0</td>\n",
       "      <td>Tanbal</td>\n",
       "      <td>Towards Data Science</td>\n",
       "      <td>2017</td>\n",
       "      <td>10</td>\n",
       "      <td>1</td>\n",
       "      <td>4</td>\n",
       "      <td>68.0</td>\n",
       "      <td>https://towardsdatascience.com/jupyter-data-sc...</td>\n",
       "      <td>https://towardsdatascience.com/@ruhayel?source...</td>\n",
       "      <td>1</td>\n",
       "    </tr>\n",
       "    <tr>\n",
       "      <th>1</th>\n",
       "      <td>Discovering similarities across my Spotify mus...</td>\n",
       "      <td>NaN</td>\n",
       "      <td>1</td>\n",
       "      <td>Juan De Dios Santos</td>\n",
       "      <td>Towards Data Science</td>\n",
       "      <td>2017</td>\n",
       "      <td>10</td>\n",
       "      <td>1</td>\n",
       "      <td>16</td>\n",
       "      <td>631.0</td>\n",
       "      <td>https://towardsdatascience.com/discovering-sim...</td>\n",
       "      <td>https://towardsdatascience.com/@jdiossantos?so...</td>\n",
       "      <td>1</td>\n",
       "    </tr>\n",
       "    <tr>\n",
       "      <th>2</th>\n",
       "      <td>How I got ~98% prediction accuracy with Kaggle...</td>\n",
       "      <td>NaN</td>\n",
       "      <td>1</td>\n",
       "      <td>Tom Cusack</td>\n",
       "      <td>Towards Data Science</td>\n",
       "      <td>2017</td>\n",
       "      <td>10</td>\n",
       "      <td>1</td>\n",
       "      <td>3</td>\n",
       "      <td>189.0</td>\n",
       "      <td>https://towardsdatascience.com/how-i-got-98-pr...</td>\n",
       "      <td>https://towardsdatascience.com/@__tomcusack?so...</td>\n",
       "      <td>1</td>\n",
       "    </tr>\n",
       "  </tbody>\n",
       "</table>\n",
       "</div>"
      ],
      "text/plain": [
       "                                               Title    Subtitle  Image  \\\n",
       "0  Jupyter Data Science Stack + Docker in under 1...  Motivation      0   \n",
       "1  Discovering similarities across my Spotify mus...         NaN      1   \n",
       "2  How I got ~98% prediction accuracy with Kaggle...         NaN      1   \n",
       "\n",
       "                Author           Publication  Year  Month  Day  Reading_Time  \\\n",
       "0              Tanbal   Towards Data Science  2017     10    1             4   \n",
       "1  Juan De Dios Santos  Towards Data Science  2017     10    1            16   \n",
       "2           Tom Cusack  Towards Data Science  2017     10    1             3   \n",
       "\n",
       "   Claps                                                url  \\\n",
       "0   68.0  https://towardsdatascience.com/jupyter-data-sc...   \n",
       "1  631.0  https://towardsdatascience.com/discovering-sim...   \n",
       "2  189.0  https://towardsdatascience.com/how-i-got-98-pr...   \n",
       "\n",
       "                                          Author_url  Tag_data-science  \n",
       "0  https://towardsdatascience.com/@ruhayel?source...                 1  \n",
       "1  https://towardsdatascience.com/@jdiossantos?so...                 1  \n",
       "2  https://towardsdatascience.com/@__tomcusack?so...                 1  "
      ]
     },
     "execution_count": 52,
     "metadata": {},
     "output_type": "execute_result"
    }
   ],
   "source": [
    "#Sorry I had to\n",
    "ds.head(3)"
   ]
  },
  {
   "cell_type": "code",
   "execution_count": 51,
   "metadata": {
    "scrolled": true
   },
   "outputs": [
    {
     "name": "stdout",
     "output_type": "stream",
     "text": [
      "Number of Stories:  17161\n",
      "Number of Authors:  8512\n",
      "Number of Publications:  1920\n"
     ]
    }
   ],
   "source": [
    "print(\"Number of Stories: \", ds.shape[0])\n",
    "print(\"Number of Authors: \", ds.Author.value_counts().shape[0])\n",
    "print(\"Number of Publications: \", ds.Publication.value_counts().shape[0])"
   ]
  },
  {
   "cell_type": "code",
   "execution_count": 62,
   "metadata": {},
   "outputs": [
    {
     "name": "stdout",
     "output_type": "stream",
     "text": [
      "Top 5 Most Publishing Authors\n",
      "\n",
      "Authors                          # Articles\n",
      "#ODSC The Data Science Community    93\n",
      "NYU Center for Data Science         85\n",
      "Corsair's Publishing                81\n",
      "Kan Nishida                         78\n",
      "elvis                               57\n",
      "Name: Author, dtype: int64\n"
     ]
    }
   ],
   "source": [
    "print(\"Top 5 Most Publishing Authors\")\n",
    "print()\n",
    "print(\"Authors                          # Articles\")\n",
    "print(ds.Author.value_counts().head())"
   ]
  },
  {
   "cell_type": "code",
   "execution_count": 66,
   "metadata": {},
   "outputs": [
    {
     "name": "stdout",
     "output_type": "stream",
     "text": [
      "Top 5 Most Publishing Publications\n",
      "\n",
      "Publication              # Articles\n",
      "Towards Data Science       2085\n",
      "Hacker Noon                 221\n",
      "Data Driven Investor        156\n",
      "freeCodeCamp.org             97\n",
      "Center for Data Science      82\n",
      "Name: Publication, dtype: int64\n"
     ]
    }
   ],
   "source": [
    "print(\"Top 5 Most Publishing Publications\")\n",
    "print()\n",
    "print(\"Publication              # Articles\")\n",
    "print(ds.Publication.value_counts().head())"
   ]
  },
  {
   "cell_type": "markdown",
   "metadata": {
    "collapsed": true
   },
   "source": [
    "# Top 100 Most Clapped  Data-Science Authors\n",
    "For data-science tagged articles posted between 10/2017 to 10/2018 "
   ]
  },
  {
   "cell_type": "code",
   "execution_count": 2,
   "metadata": {
    "collapsed": true
   },
   "outputs": [],
   "source": [
    "def print_list(data, metric):\n",
    "    dash = '-' * 100\n",
    "    for i in range(len(data)):\n",
    "        if i == 0:\n",
    "          print(dash)\n",
    "          print('{:<8s}{:<7s}{:^25s}{:^12s}'.format(\"Rank\",metric,\"Author\",\"Url\"))\n",
    "          print(dash)\n",
    "        auth = data.index[i]\n",
    "        link = medium[medium.Author==auth].Author_url.values[0]\n",
    "        link = link.split(\"?\")[0]\n",
    "        print('{:<8d}{:<10d}{:<25s}{:<20s}'.format(i+1,int(data[i]),auth, link))\n",
    "        \n",
    "def print_multi_list(data, metric1, metric2):\n",
    "    dash = '-' * 100\n",
    "    for i in range(len(data)):\n",
    "        if i == 0:\n",
    "          print(dash)\n",
    "          print('{:<8s}{:<12s}{:<7s}{:^25s}{:^12s}'.format(\"Rank\",metric1,metric2,\"Author\",\"Url\"))\n",
    "          print(dash)\n",
    "        auth = data.index[i]\n",
    "        link = medium[medium.Author==auth].Author_url.values[0]\n",
    "        link = link.split(\"?\")[0]\n",
    "        print('{:<8d}{:<12d}{:<10d}{:<25s}{:<20s}'.format(i+1,int(data.iloc[i][0]),int(data.iloc[i][1]),auth, link))"
   ]
  },
  {
   "cell_type": "code",
   "execution_count": 39,
   "metadata": {
    "scrolled": false
   },
   "outputs": [
    {
     "name": "stdout",
     "output_type": "stream",
     "text": [
      "Most Clapped Data-Science Authors\n",
      "\n",
      "----------------------------------------------------------------------------------------------------\n",
      "Rank    # Claps         Author              Url     \n",
      "----------------------------------------------------------------------------------------------------\n",
      "1       136244    William Koehrsen         https://towardsdatascience.com/@williamkoehrsen\n",
      "2       62150     Corsair's Publishing     https://comprehension360.corsairs.network/@Corsairs\n",
      "3       53884     Mybridge                 https://medium.mybridge.co/@Mybridge\n",
      "4       47423     Devin Soni               https://towardsdatascience.com/@devins\n",
      "5       45647     George Seif              https://towardsdatascience.com/@george.seif94\n",
      "6       45000     Michael Jordan           https://medium.com/@mijordan3\n",
      "7       41769     Jonny Brooks-Bartlett    https://towardsdatascience.com/@jonnybrooks04\n",
      "8       32000     YK Sugi                  https://medium.freecodecamp.org/@ykdojo\n",
      "9       30900     Robert Chang             https://medium.com/@rchang\n",
      "10      28201     Tirthajyoti Sarkar       https://towardsdatascience.com/@tirthajyoti\n",
      "11      27312     Susan Li                 https://towardsdatascience.com/@actsusanli\n",
      "12      27011     Cassie Kozyrkov          https://towardsdatascience.com/@kozyrkov\n",
      "13      26800     Konark Modi              https://medium.freecodecamp.org/@konarkmodi\n",
      "14      24719     Netflix Technology Blog  https://medium.com/@NetflixTechBlog\n",
      "15      24396     James Le                 https://medium.com/@james_aka_yale\n",
      "16      23702     Ben Weber                https://towardsdatascience.com/@bgweber\n",
      "17      23590     Chintan Trivedi          https://towardsdatascience.com/@chintan.t93\n",
      "18      21142     Project Jupyter          https://blog.jupyter.org/@ProjectJupyter\n",
      "19      21000     James Loy                https://towardsdatascience.com/@jamesloyys\n",
      "20      20915     Conor Dewey              https://towardsdatascience.com/@conordewey3\n",
      "21      20700     Emil Wallner             https://medium.freecodecamp.org/@emilwallner\n",
      "22      20300     David Foster             https://medium.com/@dtfoster\n",
      "23      19963     Favio V zquez            https://becominghuman.ai/@faviovazquez\n",
      "24      18150     DipanjanDJ) Sarkar       https://towardsdatascience.com/@dipanzan.sarkar\n",
      "25      17900     Simon Greenman           https://towardsdatascience.com/@sgreenman\n",
      "26      16957     Vikash Singh             https://medium.freecodecamp.org/@vi3k6i5\n",
      "27      16902     Michael Galarnyk         https://towardsdatascience.com/@GalarnykMichael\n",
      "28      16600     Yury Kashnitskiy         https://medium.com/@yurykashnitskiy\n",
      "29      15100     Xoel L pez Barata        https://medium.com/@xoelop\n",
      "30      14458     Peter Gleeson            https://medium.freecodecamp.org/@petergleeson1\n",
      "31      13560     Vihar Kurama             https://towardsdatascience.com/@vihar.kurama\n",
      "32      13000     Nick Abouzeid            https://blog.producthunt.com/@nickabouzeid\n",
      "33      12524     Yufeng G                 https://towardsdatascience.com/@yufengg\n",
      "34      12300     Ethan Arsht              https://towardsdatascience.com/@ethanarsht\n",
      "35      12254     Elijah Meeks             https://medium.com/@Elijah_Meeks\n",
      "36      12207     Civis Analytics          https://medium.com/@CivisAnalytics\n",
      "37      11800     Jason Roell              https://towardsdatascience.com/@roelljr\n",
      "38      11524     Kelly Peng               https://towardsdatascience.com/@kellypeng17\n",
      "39      11500     Fahim ul Haq             https://medium.freecodecamp.org/@fahimulhaq\n",
      "40      11400     Hamel Husain             https://towardsdatascience.com/@hamelhusain\n",
      "41      11295     Harrison Jansma          https://towardsdatascience.com/@harrisonjansma\n",
      "42      11251     Priya Dwivedi            https://towardsdatascience.com/@priya.dwivedi\n",
      "43      11097     Lars Hulstaert           https://towardsdatascience.com/@lars.hulstaert\n",
      "44      10874     Christopher Dossman      https://medium.com/@cdossman\n",
      "45      10684     Vimarsh Karbhari         https://medium.com/@vimarshk\n",
      "46      9993      Ted Petrou               https://medium.com/@petrou.theodore\n",
      "47      9800      uKit ICO                 https://medium.com/@ico.ukit\n",
      "48      9800      Dhruv Bansal             https://blog.unchained-capital.com/@shrubvandal\n",
      "49      9597      Daniel Shapiro, PhD      https://towardsdatascience.com/@lemaysolutions\n",
      "50      9141      Piotr Skalski            https://medium.com/@piotr.skalski92\n",
      "51      9100      Dhawal Shah              https://medium.freecodecamp.org/@dhawalhs\n",
      "52      9099      Ben Shaver               https://medium.com/@benpshaver\n",
      "53      9000      Norman Di Palo           https://towardsdatascience.com/@normandipalo\n",
      "54      8917      Nityesh Agarwal          https://towardsdatascience.com/@nityeshagarwal\n",
      "55      8871      Francesco Corea          https://medium.com/@Francesco_AI\n",
      "56      8675      Abhishek Parbhakar       https://medium.com/@abhishek.parbhakar\n",
      "57      8654      Kirill Eremenko          https://towardsdatascience.com/@KirillEremenko\n",
      "58      8635      Ganes Kesari             https://medium.com/@kesari\n",
      "59      8504      Hiromi Suenaga           https://medium.com/@hiromi_suenaga\n",
      "60      8459      Joe Davison              https://techburst.io/@josephdavison\n",
      "61      8400      F lix Revert             https://towardsdatascience.com/@FelixRvrt\n",
      "62      8377      Niklas Donges            https://towardsdatascience.com/@n.donges\n",
      "63      8023      Aaron Edell              https://hackernoon.com/@aaronedell\n",
      "64      7800      Andrew Kreimer           https://blog.usejournal.com/@kreimer.andrew\n",
      "65      7758      The Rickest Ricky        https://towardsdatascience.com/@rickykim78\n",
      "66      7234      Anthony Xie              https://hackernoon.com/@AnthonytXie\n",
      "67      7100      danah boyd               https://points.datasociety.net/@zephoria\n",
      "68      7020      SeattleDataGuy           https://towardsdatascience.com/@SeattleDataGuy\n",
      "69      6766      Rosebud Anwuri.          https://towardsdatascience.com/@Rosebxd__\n",
      "70      6700      Dat Tran                 https://medium.freecodecamp.org/@datitran\n",
      "71      6511      Alvira Swalin            https://towardsdatascience.com/@aswalin\n",
      "72      6350      Dave Smith               https://medium.com/@ExcelwithML\n",
      "73      6200      Sacha Greif              https://medium.freecodecamp.org/@sachagreif\n",
      "74      6009      Kristen Kehrer           https://medium.com/@kristenkehrer\n",
      "75      5969      Pedro                    https://medium.com/@pedrovilanova\n",
      "76      5969      Egor Polusmak            https://medium.com/@egor.polusmak\n",
      "77      5955      elvis                    https://medium.com/@ibelmopan\n",
      "78      5933      Jeremie Harris           https://towardsdatascience.com/@jeremie_sharpestminds\n",
      "79      5900      Oren Dar                 https://towardsdatascience.com/@oren.dar\n",
      "80      5897      Greg Anderson            https://creative-analytics.corsairs.network/@grelan\n",
      "81      5829      Felipe Hoffa             https://medium.freecodecamp.org/@hoffa\n",
      "82      5763      Supervise.ly             https://hackernoon.com/@deepsystems\n",
      "83      5737      Parul Pandey             https://blog.usejournal.com/@parulnith\n",
      "84      5700      Laura Desmond            https://medium.com/@descar22\n",
      "85      5691      Venkat Raman             https://towardsdatascience.com/@venksaiyan\n",
      "86      5676      John Battelle            https://medium.com/@johnbattelle\n",
      "87      5671      Sequoia                  https://medium.com/@sequoia\n",
      "88      5667      Syed Sadat Nazrul        https://towardsdatascience.com/@sadatnazrul\n",
      "89      5618      SaiGayatri Vadali        https://medium.com/@TheDataGyan\n",
      "90      5578      Kan Nishida              https://blog.exploratory.io/@kanaugust\n",
      "91      5400      Axiom88                  https://medium.com/@HelloAxiom88\n",
      "92      5400      Eduard Tyantov           https://blog.statsbot.co/@tyantovev\n",
      "93      5294      Jonathan Hui             https://medium.com/@jonathan_hui\n",
      "94      5291      James Chen               https://towardsdatascience.com/@jameschen_78678\n",
      "95      5230      Firdaouss Doukkali       https://towardsdatascience.com/@phidaouss\n",
      "96      5200      Isaac Faber              https://towardsdatascience.com/@isaacfaber\n",
      "97      5143      Ehi Aigiomawu            https://towardsdatascience.com/@ehiagheaigg\n",
      "98      5138      Bharath Raj              https://medium.freecodecamp.org/@thatbrguy\n",
      "99      5100      colin horgan             https://medium.com/@cfhorgan\n",
      "100     5092      Tomi Mester              https://hackernoon.com/@datalab\n"
     ]
    }
   ],
   "source": [
    "temp = ds.copy()\n",
    "#creates a row that we will sum to get total articles by each author\n",
    "temp[\"count\"] = 1\n",
    "auths_arts = temp.groupby(\"Author\").sum()\n",
    "total_claps = auths_arts[\"Claps\"]\n",
    "total_claps = np.flip(total_claps.sort_values(ascending=True)[-100:], axis=0)\n",
    "\n",
    "print(\"Most Clapped Data-Science Authors\")\n",
    "print()\n",
    "print_list(total_claps, \"# Claps\")"
   ]
  },
  {
   "cell_type": "markdown",
   "metadata": {},
   "source": [
    "<br>\n",
    "\n",
    "# Highest Clap per Article of Data Science Authors"
   ]
  },
  {
   "cell_type": "code",
   "execution_count": 5,
   "metadata": {
    "collapsed": true
   },
   "outputs": [],
   "source": [
    "auths_arts[\"CA_Ratio\"] = auths_arts['Claps']/auths_arts[\"count\"]\n",
    "CA = auths_arts.sort_values(\"CA_Ratio\", ascending=False)[[\"CA_Ratio\", \"count\"]]"
   ]
  },
  {
   "cell_type": "markdown",
   "metadata": {},
   "source": [
    "## No Restrictions"
   ]
  },
  {
   "cell_type": "code",
   "execution_count": 71,
   "metadata": {},
   "outputs": [
    {
     "name": "stdout",
     "output_type": "stream",
     "text": [
      "Top 20 Consistent Authors with Highest Claps per Article\n",
      "\n",
      "----------------------------------------------------------------------------------------------------\n",
      "Rank    Claps/Art   # Articles         Author              Url     \n",
      "----------------------------------------------------------------------------------------------------\n",
      "1       45000       1         Michael Jordan           https://medium.com/@mijordan3\n",
      "2       32000       1         YK Sugi                  https://medium.freecodecamp.org/@ykdojo\n",
      "3       21000       1         James Loy                https://towardsdatascience.com/@jamesloyys\n",
      "4       15100       1         Xoel L pez Barata        https://medium.com/@xoelop\n",
      "5       13400       2         Konark Modi              https://medium.freecodecamp.org/@konarkmodi\n",
      "6       13000       1         Nick Abouzeid            https://blog.producthunt.com/@nickabouzeid\n",
      "7       12300       1         Ethan Arsht              https://towardsdatascience.com/@ethanarsht\n",
      "8       11500       1         Fahim ul Haq             https://medium.freecodecamp.org/@fahimulhaq\n",
      "9       10571       2         Project Jupyter          https://blog.jupyter.org/@ProjectJupyter\n",
      "10      9000        1         Norman Di Palo           https://towardsdatascience.com/@normandipalo\n",
      "11      8950        2         Simon Greenman           https://towardsdatascience.com/@sgreenman\n",
      "12      8478        2         Vikash Singh             https://medium.freecodecamp.org/@vi3k6i5\n",
      "13      7800        1         Andrew Kreimer           https://blog.usejournal.com/@kreimer.andrew\n",
      "14      7100        1         danah boyd               https://points.datasociety.net/@zephoria\n",
      "15      6766        3         David Foster             https://medium.com/@dtfoster\n",
      "16      6700        1         Dat Tran                 https://medium.freecodecamp.org/@datitran\n",
      "17      6200        1         Sacha Greif              https://medium.freecodecamp.org/@sachagreif\n",
      "18      6180        5         Robert Chang             https://medium.com/@rchang\n",
      "19      5900        1         Oren Dar                 https://towardsdatascience.com/@oren.dar\n",
      "20      5700        1         Laura Desmond            https://medium.com/@descar22\n"
     ]
    }
   ],
   "source": [
    "def print_top20(df):\n",
    "    temp = df.copy()\n",
    "    #creates a row that we will sum to get total articles by each author\n",
    "    temp[\"count\"] = 1\n",
    "    auths_arts = temp.groupby(\"Author\").sum()\n",
    "    \n",
    "    auths_arts[\"CA_Ratio\"] = auths_arts['Claps']/auths_arts[\"count\"]\n",
    "    CA = auths_arts.sort_values(\"CA_Ratio\", ascending=False)[[\"CA_Ratio\", \"count\"]]\n",
    "\n",
    "    print(\"Top 20 Consistent Authors with Highest Claps per Article\")\n",
    "    print()\n",
    "    print_multi_list(CA[:20],\"Claps/Art\", \"# Articles\")\n",
    "    return None\n",
    "\n",
    "print_top20(ds)"
   ]
  },
  {
   "cell_type": "markdown",
   "metadata": {},
   "source": [
    "## Restricting On Number of Articles Published (Total Articles > 10)"
   ]
  },
  {
   "cell_type": "code",
   "execution_count": 77,
   "metadata": {},
   "outputs": [
    {
     "name": "stdout",
     "output_type": "stream",
     "text": [
      "All Authors:  8512\n",
      "Authors with more than 10 stories:  148\n"
     ]
    }
   ],
   "source": [
    "authors = ds.Author.value_counts()\n",
    "veterans = authors[authors>10]\n",
    "\n",
    "ds_veterans = ds[ds.Author.isin(veterans.index)]\n",
    "print(\"All Authors: \",authors.shape[0])\n",
    "print(\"Authors with more than 10 stories: \",veterans.shape[0])"
   ]
  },
  {
   "cell_type": "code",
   "execution_count": 78,
   "metadata": {},
   "outputs": [
    {
     "name": "stdout",
     "output_type": "stream",
     "text": [
      "Top 20 Consistent Authors with Highest Claps per Article\n",
      "\n",
      "----------------------------------------------------------------------------------------------------\n",
      "Rank    Claps/Art   # Articles         Author              Url     \n",
      "----------------------------------------------------------------------------------------------------\n",
      "1       3647        13        Devin Soni               https://towardsdatascience.com/@devins\n",
      "2       3480        12        Jonny Brooks-Bartlett    https://towardsdatascience.com/@jonnybrooks04\n",
      "3       3260        14        George Seif              https://towardsdatascience.com/@george.seif94\n",
      "4       2724        50        William Koehrsen         https://towardsdatascience.com/@williamkoehrsen\n",
      "5       2694        20        Mybridge                 https://medium.mybridge.co/@Mybridge\n",
      "6       1410        20        Tirthajyoti Sarkar       https://towardsdatascience.com/@tirthajyoti\n",
      "7       1286        21        Cassie Kozyrkov          https://towardsdatascience.com/@kozyrkov\n",
      "8       942         13        Elijah Meeks             https://medium.com/@Elijah_Meeks\n",
      "9       910         30        Susan Li                 https://towardsdatascience.com/@actsusanli\n",
      "10      877         27        Ben Weber                https://towardsdatascience.com/@bgweber\n",
      "11      767         81        Corsair's Publishing     https://comprehension360.corsairs.network/@Corsairs\n",
      "12      626         20        Yufeng G                 https://towardsdatascience.com/@yufengg\n",
      "13      546         11        Kristen Kehrer           https://medium.com/@kristenkehrer\n",
      "14      521         11        Parul Pandey             https://blog.usejournal.com/@parulnith\n",
      "15      479         18        Ganes Kesari             https://medium.com/@kesari\n",
      "16      475         42        Favio V zquez            https://becominghuman.ai/@faviovazquez\n",
      "17      445         24        Vimarsh Karbhari         https://medium.com/@vimarshk\n",
      "18      417         23        Daniel Shapiro, PhD      https://towardsdatascience.com/@lemaysolutions\n",
      "19      405         14        Sequoia                  https://medium.com/@sequoia\n",
      "20      401         14        SaiGayatri Vadali        https://medium.com/@TheDataGyan\n"
     ]
    }
   ],
   "source": [
    "print_top20(ds_veterans)"
   ]
  },
  {
   "cell_type": "markdown",
   "metadata": {},
   "source": [
    "## Restricting on Consistency. (One story a month, last three months)\n",
    "We want authors who have posted a story every month for the last three months."
   ]
  },
  {
   "cell_type": "code",
   "execution_count": 47,
   "metadata": {},
   "outputs": [
    {
     "name": "stdout",
     "output_type": "stream",
     "text": [
      "All Authors:  8512\n",
      "Number of Consistent Authors:  84\n"
     ]
    }
   ],
   "source": [
    "def consistent(df):\n",
    "    #Checks if the author wrote a story in July, aug, and sep.\n",
    "    months = [7,8,9]\n",
    "    check1 = int((df.Month==7).any())\n",
    "    check2 = int((df.Month==8).any())\n",
    "    check3 = int((df.Month==9).any())\n",
    "    if check1 + check2 + check3 == 3:\n",
    "        return True\n",
    "    else: \n",
    "        return False\n",
    "            \n",
    "result = ds.groupby(\"Author\").apply(consistent)\n",
    "\n",
    "consistent_authors = result[result==True].index\n",
    "\n",
    "ds_consistent = ds[ds.Author.isin(consistent_authors)]\n",
    "print(\"All Authors: \", ds.Author.value_counts().shape[0])\n",
    "print(\"Number of Consistent Authors: \", consistent_authors.shape[0])"
   ]
  },
  {
   "cell_type": "code",
   "execution_count": 72,
   "metadata": {
    "scrolled": false
   },
   "outputs": [
    {
     "name": "stdout",
     "output_type": "stream",
     "text": [
      "Top 20 Consistent Authors with Highest Claps per Article\n",
      "\n",
      "----------------------------------------------------------------------------------------------------\n",
      "Rank    Claps/Art   # Articles         Author              Url     \n",
      "----------------------------------------------------------------------------------------------------\n",
      "1       3260        14        George Seif              https://towardsdatascience.com/@george.seif94\n",
      "2       2724        50        William Koehrsen         https://towardsdatascience.com/@williamkoehrsen\n",
      "3       1410        20        Tirthajyoti Sarkar       https://towardsdatascience.com/@tirthajyoti\n",
      "4       1286        21        Cassie Kozyrkov          https://towardsdatascience.com/@kozyrkov\n",
      "5       960         6         Supervise.ly             https://hackernoon.com/@deepsystems\n",
      "6       910         30        Susan Li                 https://towardsdatascience.com/@actsusanli\n",
      "7       767         81        Corsair's Publishing     https://comprehension360.corsairs.network/@Corsairs\n",
      "8       626         20        Yufeng G                 https://towardsdatascience.com/@yufengg\n",
      "9       521         11        Parul Pandey             https://blog.usejournal.com/@parulnith\n",
      "10      479         18        Ganes Kesari             https://medium.com/@kesari\n",
      "11      475         42        Favio V zquez            https://becominghuman.ai/@faviovazquez\n",
      "12      445         24        Vimarsh Karbhari         https://medium.com/@vimarshk\n",
      "13      405         14        Sequoia                  https://medium.com/@sequoia\n",
      "14      374         5         Paulina Zheng            https://towardsdatascience.com/@paulinaczheng\n",
      "15      369         33        Civis Analytics          https://medium.com/@CivisAnalytics\n",
      "16      360         3         Christopher Pease        https://medium.com/@chris.m.pease\n",
      "17      345         4         Carsten Klein            https://medium.com/@CarstenKlein\n",
      "18      286         13        AMR                      https://towardsdatascience.com/@amrwrites\n",
      "19      230         19        Keith McNulty            https://towardsdatascience.com/@keith.mcnulty\n",
      "20      217         16        Formulated.by            https://techburst.io/@formulatedby\n"
     ]
    }
   ],
   "source": [
    "print_top20(ds_consistent)"
   ]
  }
 ],
 "metadata": {
  "kernelspec": {
   "display_name": "Python [conda env:py36]",
   "language": "python",
   "name": "conda-env-py36-py"
  },
  "language_info": {
   "codemirror_mode": {
    "name": "ipython",
    "version": 3
   },
   "file_extension": ".py",
   "mimetype": "text/x-python",
   "name": "python",
   "nbconvert_exporter": "python",
   "pygments_lexer": "ipython3",
   "version": "3.6.5"
  }
 },
 "nbformat": 4,
 "nbformat_minor": 2
}
